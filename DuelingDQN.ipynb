{
 "cells": [
  {
   "cell_type": "code",
   "execution_count": 1,
   "metadata": {},
   "outputs": [],
   "source": [
    "import gym\n",
    "import tensorflow as tf\n",
    "import random\n",
    "import numpy as np\n",
    "import cv2\n",
    "from collections import deque\n",
    "import matplotlib.pyplot as plt\n",
    "\n",
    "from tensorflow.keras.models import Model\n",
    "from tensorflow.keras.layers import *\n",
    "\n",
    "from memory import frame_stack, replay_buffer"
   ]
  },
  {
   "cell_type": "code",
   "execution_count": 2,
   "metadata": {},
   "outputs": [],
   "source": [
    "MAX_EPSILON = 1\n",
    "MIN_EPSILON = 0.1\n",
    "EPSILON_DECAY = 0.99\n",
    "DELAY_TRAINING = 500\n",
    "GAMMA = 0.99\n",
    "BATCH_SIZE = 32\n",
    "TAU = 0.08\n",
    "\n",
    "env = gym.make(\"Breakout-v0\")"
   ]
  },
  {
   "cell_type": "code",
   "execution_count": 3,
   "metadata": {},
   "outputs": [],
   "source": [
    "def preprocess_frame(frame):\n",
    "    resized = frame[10:210,0:160]\n",
    "    gray = cv2.cvtColor(resized, cv2.COLOR_RGB2GRAY)/255.\n",
    "    return np.expand_dims(gray, axis=2).astype(np.float32)"
   ]
  },
  {
   "cell_type": "code",
   "execution_count": 4,
   "metadata": {},
   "outputs": [],
   "source": [
    "def Learner(obs_dim,action_dim):\n",
    "    \n",
    "    input = Input(shape=(obs_dim))\n",
    "    c1 = Conv2D(4, (5, 5), activation='elu', kernel_initializer='he_normal', padding='same') (input)\n",
    "    c1 = Dropout(0.1) (c1)\n",
    "    c1 = Conv2D(4, (5, 5), activation='elu', kernel_initializer='he_normal', padding='same') (c1)\n",
    "    p1 = MaxPooling2D((2, 2)) (c1)\n",
    "\n",
    "    c2 = Conv2D(4, (5, 5), activation='elu', kernel_initializer='he_normal', padding='same') (p1)\n",
    "    c2 = Dropout(0.1) (c2)\n",
    "    c2 = Conv2D(4, (3, 3), activation='elu', kernel_initializer='he_normal', padding='same') (c2)\n",
    "    p2 = MaxPooling2D((2, 2)) (c2)\n",
    "    \n",
    "    c3 = Conv2D(2, (5, 5), activation='elu', kernel_initializer='he_normal', padding='same') (p2)\n",
    "    c3 = Dropout(0.1) (c3)\n",
    "    c3 = Conv2D(2, (3, 3), activation='elu', kernel_initializer='he_normal', padding='same') (c3)\n",
    "    p3 = MaxPooling2D((2, 2)) (c3)\n",
    "    \n",
    "    c4 = Conv2D(2, (5, 5), activation='elu', kernel_initializer='he_normal', padding='same') (p3)\n",
    "    c4 = Dropout(0.1) (c4)\n",
    "    c4 = Conv2D(2, (3, 3), activation='elu', kernel_initializer='he_normal', padding='same') (c4)\n",
    "    p4 = MaxPooling2D((2, 2)) (c4)\n",
    "\n",
    "    c5 = Conv2D(2, (5, 5), activation='elu', kernel_initializer='he_normal', padding='same') (p4)\n",
    "    c5 = Dropout(0.2) (c5)\n",
    "    c5 = Conv2D(1, (5, 5), activation='elu', kernel_initializer='he_normal', padding='same') (c5)\n",
    "\n",
    "    y = Flatten()(c5)\n",
    "    x = Dense(32)(y)\n",
    "    x = Dense(32)(x)\n",
    "\n",
    "    advantage = Dense(32, activation=\"relu\")(y)\n",
    "    advantage = Dense(action_dim)(advantage)\n",
    "    \n",
    "    advantage_norm = Lambda(lambda x: x - tf.reduce_mean(x))(advantage)\n",
    "    \n",
    "    value = Dense(32, activation=\"relu\")(y)\n",
    "    value = Dense(1)(value)\n",
    "    \n",
    "    out = Add()([value, advantage_norm])\n",
    "\n",
    "    model = Model(inputs=input, outputs=out)\n",
    "    return model"
   ]
  },
  {
   "cell_type": "code",
   "execution_count": 5,
   "metadata": {},
   "outputs": [],
   "source": [
    "class DQNAgent:\n",
    "    def __init__(self, env):\n",
    "        \n",
    "        #Environment\n",
    "        self.state_size = (200,160,1)\n",
    "        self.num_actions = 4\n",
    "        \n",
    "        #Initiate networks\n",
    "        self.primary_network = Learner(self.state_size, self.num_actions)\n",
    "        self.target_network = Learner(self.state_size, self.num_actions)\n",
    "        \n",
    "        self.optimizer = tf.keras.optimizers.Adam()\n",
    "        self.MSE = tf.keras.losses.MeanSquaredError()\n",
    "        # make target_network = primary_network\n",
    "        for t, e in zip(self.target_network.trainable_variables, self.primary_network.trainable_variables):\n",
    "            t.assign(e)\n",
    "        \n",
    "        #Initiate memory\n",
    "        self.replay_buffer = replay_buffer(100000)\n",
    "        self.frame_stack = frame_stack(4, (200,160))\n",
    "        \n",
    "\n",
    "    def update_network(self):\n",
    "        for t, e in zip(self.target_network.trainable_variables, self.primary_network.trainable_variables):\n",
    "            t.assign(t * (1 - TAU) + e * TAU)# update target network parameters slowly from primary network\n",
    "    \n",
    "    def choose_action(self, state, eps):\n",
    "        if random.random() < eps:\n",
    "            return env.action_space.sample()\n",
    "        else:\n",
    "            return np.argmax(self.primary_network.predict(np.expand_dims(state, axis=0))[0])\n",
    "        \n",
    "    def train(self):\n",
    "        batch = self.replay_buffer.sample(BATCH_SIZE)\n",
    "        states = np.array([val[0] for val in batch], dtype=np.float32)\n",
    "        actions = np.array([val[1] for val in batch])\n",
    "        rewards = np.array([val[2] for val in batch], dtype=np.float32)\n",
    "        next_states = np.array([val[3] for val in batch], dtype=np.float32)\n",
    "\n",
    "        with tf.GradientTape() as tape:\n",
    "            prim_qt = self.primary_network(states)\n",
    "            prim_qtp1 = self.primary_network(next_states)\n",
    "            target_q = prim_qt.numpy()\n",
    "            updates = rewards\n",
    "            batch_idxs = np.arange(BATCH_SIZE)\n",
    "            prim_action_tp1 = np.argmax(prim_qtp1.numpy(), axis=1)\n",
    "            q_from_target = self.target_network(next_states)\n",
    "            updates += GAMMA * q_from_target.numpy()[batch_idxs, prim_action_tp1]\n",
    "            target_q[batch_idxs, actions] = updates\n",
    "            loss = self.MSE(prim_qt, target_q)\n",
    "            \n",
    "        gradients = tape.gradient(loss, self.primary_network.trainable_variables)   \n",
    "        self.optimizer.apply_gradients(zip(gradients, self.primary_network.trainable_variables))\n",
    "        self.update_network()\n",
    "        "
   ]
  },
  {
   "cell_type": "code",
   "execution_count": 6,
   "metadata": {},
   "outputs": [],
   "source": [
    "Agent = DQNAgent(env)"
   ]
  },
  {
   "cell_type": "code",
   "execution_count": 7,
   "metadata": {},
   "outputs": [
    {
     "name": "stdout",
     "output_type": "stream",
     "text": [
      "1\n",
      "episode: 0, eps: 1, pretraining...\n",
      "episode: 1, eps: 0.99, pretraining...\n",
      "episode: 2, eps: 0.9801, reward: 0.0, average reward: 0.5\n",
      "episode: 3, eps: 0.9702989999999999, reward: 1.0, average reward: 0.3333333333333333\n",
      "episode: 4, eps: 0.96059601, reward: 1.0, average reward: 0.5\n",
      "episode: 5, eps: 0.9509900498999999, reward: 2.0, average reward: 0.6\n",
      "episode: 6, eps: 0.9414801494009999, reward: 1.0, average reward: 0.8333333333333334\n"
     ]
    },
    {
     "ename": "KeyboardInterrupt",
     "evalue": "",
     "output_type": "error",
     "traceback": [
      "\u001b[1;31m---------------------------------------------------------------------------\u001b[0m",
      "\u001b[1;31mKeyboardInterrupt\u001b[0m                         Traceback (most recent call last)",
      "\u001b[1;32m<ipython-input-7-e6d6f364f9d1>\u001b[0m in \u001b[0;36m<module>\u001b[1;34m\u001b[0m\n\u001b[0;32m     24\u001b[0m         \u001b[1;31m# linearly decay the eps value\u001b[0m\u001b[1;33m\u001b[0m\u001b[1;33m\u001b[0m\u001b[1;33m\u001b[0m\u001b[0m\n\u001b[0;32m     25\u001b[0m         \u001b[1;32mif\u001b[0m \u001b[0msteps\u001b[0m \u001b[1;33m>\u001b[0m \u001b[0mDELAY_TRAINING\u001b[0m\u001b[1;33m:\u001b[0m\u001b[1;33m\u001b[0m\u001b[1;33m\u001b[0m\u001b[0m\n\u001b[1;32m---> 26\u001b[1;33m             \u001b[0mAgent\u001b[0m\u001b[1;33m.\u001b[0m\u001b[0mtrain\u001b[0m\u001b[1;33m(\u001b[0m\u001b[1;33m)\u001b[0m\u001b[1;33m\u001b[0m\u001b[1;33m\u001b[0m\u001b[0m\n\u001b[0m\u001b[0;32m     27\u001b[0m \u001b[1;33m\u001b[0m\u001b[0m\n\u001b[0;32m     28\u001b[0m \u001b[1;33m\u001b[0m\u001b[0m\n",
      "\u001b[1;32m<ipython-input-5-cf41de2de100>\u001b[0m in \u001b[0;36mtrain\u001b[1;34m(self)\u001b[0m\n\u001b[0;32m     36\u001b[0m         \u001b[0mactions\u001b[0m \u001b[1;33m=\u001b[0m \u001b[0mnp\u001b[0m\u001b[1;33m.\u001b[0m\u001b[0marray\u001b[0m\u001b[1;33m(\u001b[0m\u001b[1;33m[\u001b[0m\u001b[0mval\u001b[0m\u001b[1;33m[\u001b[0m\u001b[1;36m1\u001b[0m\u001b[1;33m]\u001b[0m \u001b[1;32mfor\u001b[0m \u001b[0mval\u001b[0m \u001b[1;32min\u001b[0m \u001b[0mbatch\u001b[0m\u001b[1;33m]\u001b[0m\u001b[1;33m)\u001b[0m\u001b[1;33m\u001b[0m\u001b[1;33m\u001b[0m\u001b[0m\n\u001b[0;32m     37\u001b[0m         \u001b[0mrewards\u001b[0m \u001b[1;33m=\u001b[0m \u001b[0mnp\u001b[0m\u001b[1;33m.\u001b[0m\u001b[0marray\u001b[0m\u001b[1;33m(\u001b[0m\u001b[1;33m[\u001b[0m\u001b[0mval\u001b[0m\u001b[1;33m[\u001b[0m\u001b[1;36m2\u001b[0m\u001b[1;33m]\u001b[0m \u001b[1;32mfor\u001b[0m \u001b[0mval\u001b[0m \u001b[1;32min\u001b[0m \u001b[0mbatch\u001b[0m\u001b[1;33m]\u001b[0m\u001b[1;33m,\u001b[0m \u001b[0mdtype\u001b[0m\u001b[1;33m=\u001b[0m\u001b[0mnp\u001b[0m\u001b[1;33m.\u001b[0m\u001b[0mfloat32\u001b[0m\u001b[1;33m)\u001b[0m\u001b[1;33m\u001b[0m\u001b[1;33m\u001b[0m\u001b[0m\n\u001b[1;32m---> 38\u001b[1;33m         \u001b[0mnext_states\u001b[0m \u001b[1;33m=\u001b[0m \u001b[0mnp\u001b[0m\u001b[1;33m.\u001b[0m\u001b[0marray\u001b[0m\u001b[1;33m(\u001b[0m\u001b[1;33m[\u001b[0m\u001b[0mval\u001b[0m\u001b[1;33m[\u001b[0m\u001b[1;36m3\u001b[0m\u001b[1;33m]\u001b[0m \u001b[1;32mfor\u001b[0m \u001b[0mval\u001b[0m \u001b[1;32min\u001b[0m \u001b[0mbatch\u001b[0m\u001b[1;33m]\u001b[0m\u001b[1;33m,\u001b[0m \u001b[0mdtype\u001b[0m\u001b[1;33m=\u001b[0m\u001b[0mnp\u001b[0m\u001b[1;33m.\u001b[0m\u001b[0mfloat32\u001b[0m\u001b[1;33m)\u001b[0m\u001b[1;33m\u001b[0m\u001b[1;33m\u001b[0m\u001b[0m\n\u001b[0m\u001b[0;32m     39\u001b[0m \u001b[1;33m\u001b[0m\u001b[0m\n\u001b[0;32m     40\u001b[0m         \u001b[1;32mwith\u001b[0m \u001b[0mtf\u001b[0m\u001b[1;33m.\u001b[0m\u001b[0mGradientTape\u001b[0m\u001b[1;33m(\u001b[0m\u001b[1;33m)\u001b[0m \u001b[1;32mas\u001b[0m \u001b[0mtape\u001b[0m\u001b[1;33m:\u001b[0m\u001b[1;33m\u001b[0m\u001b[1;33m\u001b[0m\u001b[0m\n",
      "\u001b[1;31mKeyboardInterrupt\u001b[0m: "
     ]
    }
   ],
   "source": [
    "num_episodes = 10000\n",
    "eps = MAX_EPSILON\n",
    "steps = 0\n",
    "rewards = []\n",
    "avg_rewards = []\n",
    "\n",
    "print(eps)\n",
    "\n",
    "for episode in range(num_episodes):\n",
    "    episode_reward = 0\n",
    "    state = env.reset()\n",
    "    DQNAgent.frame_stack.query()\n",
    "    while True:\n",
    "        env.render()\n",
    "        action = Agent.choose_action(preprocess_frame(state), eps)\n",
    "        next_state, reward, done, info = env.step(action)\n",
    "        episode_reward += reward\n",
    "\n",
    "        # store in memory\n",
    "        #plt.imshow(next_state)\n",
    "        experience = preprocess_frame(state), action, reward, preprocess_frame(next_state), done\n",
    "        Agent.replay_buffer.store(experience)\n",
    "\n",
    "        # linearly decay the eps value\n",
    "        if steps > DEL AY_TRAINING:\n",
    "            Agent.train()\n",
    "            \n",
    "        steps += 1\n",
    "        if done:\n",
    "            if steps > DELAY_TRAINING:\n",
    "                print(\"episode: {}, eps: {}, reward: {}, average reward: {}\".format(episode, eps, np.round(episode_reward, decimals=2), np.mean(rewards[-10:])))\n",
    "            else:\n",
    "                print(\"episode: {}, eps: {}, pretraining...\".format(episode, eps, decimals=2))\n",
    "            if eps > MIN_EPSILON:\n",
    "                eps = eps * EPSILON_DECAY\n",
    "            break\n",
    "\n",
    "        state = next_state\n",
    "        \n",
    "    rewards.append(episode_reward)\n",
    "    avg_rewards.append(np.mean(rewards[-10:]))\n",
    "\n",
    "env.close()\n",
    "plt.plot(rewards)\n",
    "plt.plot(avg_rewards)\n",
    "plt.plot()\n",
    "plt.xlabel('Episode')\n",
    "plt.ylabel('Reward')\n",
    "plt.show()        "
   ]
  },
  {
   "cell_type": "code",
   "execution_count": 26,
   "metadata": {},
   "outputs": [],
   "source": [
    "batch = DQNAgent.memory.sample(BATCH_SIZE)\n",
    "states = np.array([val[0] for val in batch], dtype=np.float32)\n",
    "actions = np.array([val[1] for val in batch])\n",
    "rewards = np.array([val[2] for val in batch], dtype=np.float32)\n",
    "next_states = np.array([val[3] for val in batch], dtype=np.float32)"
   ]
  },
  {
   "cell_type": "code",
   "execution_count": 41,
   "metadata": {},
   "outputs": [],
   "source": [
    "prim_qt = DQNAgent.primary_network(states)\n",
    "prim_qtp1 = DQNAgent.primary_network(next_states)\n",
    "target_q = prim_qt.numpy()\n",
    "updates = rewards\n",
    "#valid_idxs = np.squeeze(np.array(next_states).sum(axis=1) != 0)\n",
    "#batch_idxs = np.arange(BATCH_SIZE)\n",
    "prim_action_tp1 = np.argmax(prim_qtp1.numpy(), axis=1)\n",
    "q_from_target = DQNAgent.target_network(next_states)"
   ]
  },
  {
   "cell_type": "code",
   "execution_count": 53,
   "metadata": {},
   "outputs": [],
   "source": [
    "updates += GAMMA * q_from_target.numpy()[batch_idxs, prim_action_tp1]"
   ]
  },
  {
   "cell_type": "code",
   "execution_count": null,
   "metadata": {},
   "outputs": [],
   "source": [
    "env.close()"
   ]
  },
  {
   "cell_type": "code",
   "execution_count": 24,
   "metadata": {},
   "outputs": [
    {
     "name": "stdout",
     "output_type": "stream",
     "text": [
      "52338\n"
     ]
    }
   ],
   "source": [
    "print(steps)"
   ]
  },
  {
   "cell_type": "code",
   "execution_count": 29,
   "metadata": {},
   "outputs": [
    {
     "data": {
      "text/plain": [
       "1"
      ]
     },
     "execution_count": 29,
     "metadata": {},
     "output_type": "execute_result"
    }
   ],
   "source": [
    "np.argmax(DQNAgent.primary_network.predict(np.float32(np.expand_dims(preprocess_frame(state), axis=0)))[0])"
   ]
  },
  {
   "cell_type": "code",
   "execution_count": null,
   "metadata": {},
   "outputs": [],
   "source": [
    "env.close()"
   ]
  },
  {
   "cell_type": "code",
   "execution_count": 10,
   "metadata": {},
   "outputs": [
    {
     "ename": "IndentationError",
     "evalue": "unexpected indent (<ipython-input-10-9f183f3a8ace>, line 2)",
     "output_type": "error",
     "traceback": [
      "\u001b[1;36m  File \u001b[1;32m\"<ipython-input-10-9f183f3a8ace>\"\u001b[1;36m, line \u001b[1;32m2\u001b[0m\n\u001b[1;33m    states = np.array([val[0] for val in batch], dtype=np.float32)\u001b[0m\n\u001b[1;37m    ^\u001b[0m\n\u001b[1;31mIndentationError\u001b[0m\u001b[1;31m:\u001b[0m unexpected indent\n"
     ]
    }
   ],
   "source": [
    "     batch = self.memory.sample(BATCH_SIZE)\n",
    "        states = np.array([val[0] for val in batch], dtype=np.float32)\n",
    "        actions = np.array([val[1] for val in batch])\n",
    "        rewards = np.array([val[2] for val in batch], dtype=np.float32)\n",
    "        next_states = np.array([(np.zeros(self.state_size) if val[3] is None else val[3]) for val in batch], dtype=np.float32)"
   ]
  },
  {
   "cell_type": "code",
   "execution_count": null,
   "metadata": {},
   "outputs": [],
   "source": []
  }
 ],
 "metadata": {
  "kernelspec": {
   "display_name": "Python 3",
   "language": "python",
   "name": "python3"
  },
  "language_info": {
   "codemirror_mode": {
    "name": "ipython",
    "version": 3
   },
   "file_extension": ".py",
   "mimetype": "text/x-python",
   "name": "python",
   "nbconvert_exporter": "python",
   "pygments_lexer": "ipython3",
   "version": "3.7.4"
  }
 },
 "nbformat": 4,
 "nbformat_minor": 4
}
