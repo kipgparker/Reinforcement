{
 "cells": [
  {
   "cell_type": "code",
   "execution_count": 1,
   "metadata": {},
   "outputs": [],
   "source": [
    "import gym\n",
    "import numpy as np\n",
    "import matplotlib.pyplot as plt\n",
    "from DDPG import DDPGagent\n",
    "from Noise import OUNoise"
   ]
  },
  {
   "cell_type": "code",
   "execution_count": 2,
   "metadata": {},
   "outputs": [],
   "source": [
    "env = gym.make(\"Pendulum-v0\")\n",
    "\n",
    "agent = DDPGagent(env.action_space.shape[0], env.observation_space.shape[0])\n",
    "noise = OUNoise(env.action_space.shape[0])\n",
    "batch_size = 128\n",
    "rewards = []\n",
    "avg_rewards = []"
   ]
  },
  {
   "cell_type": "code",
   "execution_count": 3,
   "metadata": {},
   "outputs": [
    {
     "name": "stderr",
     "output_type": "stream",
     "text": [
      "C:\\Users\\kipst\\Anaconda3\\lib\\site-packages\\numpy\\core\\fromnumeric.py:3118: RuntimeWarning: Mean of empty slice.\n",
      "  out=out, **kwargs)\n",
      "C:\\Users\\kipst\\Anaconda3\\lib\\site-packages\\numpy\\core\\_methods.py:85: RuntimeWarning: invalid value encountered in double_scalars\n",
      "  ret = ret.dtype.type(ret / rcount)\n"
     ]
    },
    {
     "name": "stdout",
     "output_type": "stream",
     "text": [
      "episode: 0, reward: -1201.46, average _reward: nan \n",
      "\n",
      "episode: 1, reward: -1434.67, average _reward: -1201.461729286159 \n",
      "\n",
      "episode: 2, reward: -1551.3, average _reward: -1318.0644468388095 \n",
      "\n",
      "episode: 3, reward: -1463.55, average _reward: -1395.808973553152 \n",
      "\n",
      "episode: 4, reward: -1297.02, average _reward: -1412.7438166445709 \n",
      "\n",
      "episode: 5, reward: -1514.95, average _reward: -1389.598923781689 \n",
      "\n",
      "episode: 6, reward: -1433.61, average _reward: -1410.4905310235529 \n",
      "\n",
      "episode: 7, reward: -1481.85, average _reward: -1413.7938465569034 \n",
      "\n",
      "episode: 8, reward: -1495.37, average _reward: -1422.3004787261148 \n",
      "\n",
      "episode: 9, reward: -1491.32, average _reward: -1430.4192291997783 \n",
      "\n",
      "episode: 10, reward: -1497.3, average _reward: -1436.5088639903356 \n",
      "\n",
      "episode: 11, reward: -898.36, average _reward: -1466.0930433901672 \n",
      "\n",
      "episode: 12, reward: -1411.16, average _reward: -1412.4621283397043 \n",
      "\n",
      "episode: 13, reward: -1420.24, average _reward: -1398.4483947412396 \n",
      "\n",
      "episode: 14, reward: -1426.32, average _reward: -1394.117268418851 \n",
      "\n",
      "episode: 15, reward: -1406.99, average _reward: -1407.047125405646 \n",
      "\n",
      "episode: 16, reward: -1346.45, average _reward: -1396.2508451386389 \n",
      "\n",
      "episode: 17, reward: -1495.87, average _reward: -1387.5345544482316 \n",
      "\n",
      "episode: 18, reward: -1444.76, average _reward: -1388.9373045935365 \n",
      "\n",
      "episode: 19, reward: -1456.03, average _reward: -1383.8761622664185 \n",
      "\n",
      "episode: 20, reward: -1515.93, average _reward: -1380.3479121062471 \n",
      "\n",
      "episode: 21, reward: -1496.57, average _reward: -1382.210440229463 \n",
      "\n",
      "episode: 22, reward: -1408.45, average _reward: -1442.0313775175762 \n",
      "\n",
      "episode: 23, reward: -1479.66, average _reward: -1441.760599665267 \n",
      "\n",
      "episode: 24, reward: -1491.06, average _reward: -1447.7033851359868 \n",
      "\n",
      "episode: 25, reward: -752.58, average _reward: -1454.1779538106603 \n",
      "\n",
      "episode: 26, reward: -1429.37, average _reward: -1388.7374594736452 \n",
      "\n",
      "episode: 27, reward: -960.1, average _reward: -1397.0289402389026 \n",
      "\n",
      "episode: 28, reward: -1495.25, average _reward: -1343.4511994662587 \n",
      "\n",
      "episode: 29, reward: -1369.74, average _reward: -1348.5003599659053 \n",
      "\n",
      "episode: 30, reward: -1496.73, average _reward: -1339.8714299206663 \n",
      "\n",
      "episode: 31, reward: -1284.98, average _reward: -1337.9517672184343 \n",
      "\n",
      "episode: 32, reward: -1257.92, average _reward: -1316.7930163001317 \n",
      "\n",
      "episode: 33, reward: -1355.65, average _reward: -1301.7393756191711 \n",
      "\n",
      "episode: 34, reward: -1517.81, average _reward: -1289.3377386294992 \n",
      "\n",
      "episode: 35, reward: -1383.33, average _reward: -1292.011892483824 \n",
      "\n",
      "episode: 36, reward: -1417.63, average _reward: -1355.086983179654 \n",
      "\n",
      "episode: 37, reward: -1446.85, average _reward: -1353.9136580367858 \n",
      "\n",
      "episode: 38, reward: -1384.42, average _reward: -1402.5889320659262 \n",
      "\n",
      "episode: 39, reward: -1498.05, average _reward: -1391.506375768319 \n",
      "\n",
      "episode: 40, reward: -1456.02, average _reward: -1404.3369485461621 \n",
      "\n",
      "episode: 41, reward: -1510.75, average _reward: -1400.265527022414 \n",
      "\n",
      "episode: 42, reward: -1493.16, average _reward: -1422.8428699942806 \n",
      "\n",
      "episode: 43, reward: -1463.25, average _reward: -1446.3667935858525 \n",
      "\n",
      "episode: 44, reward: -1519.06, average _reward: -1457.1271607409458 \n",
      "\n",
      "episode: 45, reward: -1556.0, average _reward: -1457.2531140898166 \n",
      "\n",
      "episode: 46, reward: -1538.3, average _reward: -1474.5197466236873 \n",
      "\n",
      "episode: 47, reward: -1656.41, average _reward: -1486.5860646652777 \n",
      "\n",
      "episode: 48, reward: -1609.9, average _reward: -1507.5418624273143 \n",
      "\n",
      "episode: 49, reward: -1862.9, average _reward: -1530.0894327379017 \n",
      "\n"
     ]
    },
    {
     "data": {
      "image/png": "[encoded data removed]",
      "text/plain": [
       "<Figure size 432x288 with 1 Axes>"
      ]
     },
     "metadata": {
      "needs_background": "light"
     },
     "output_type": "display_data"
    }
   ],
   "source": [
    "for episode in range(50):\n",
    "    state = env.reset()\n",
    "    noise.reset()\n",
    "    episode_reward = 0\n",
    "    for step in range(400):\n",
    "        #env.render()\n",
    "        action = agent.get_action(state)\n",
    "        noise_action = noise.apply_noise(action, step)\n",
    "        \n",
    "        new_state, reward, done, _ = env.step(noise_action)\n",
    "        \n",
    "        agent.memory.push(state, action, reward, new_state, done)\n",
    "        \n",
    "        if agent.memory.count() > batch_size:\n",
    "            agent.update(batch_size)\n",
    "        \n",
    "        state = new_state\n",
    "        episode_reward += reward\n",
    "        \n",
    "        if done:\n",
    "            print(\"episode: {}, reward: {}, average _reward: {} \\n\".format(episode, np.round(episode_reward, decimals=2), np.mean(rewards[-10:])))\n",
    "            break\n",
    "    \n",
    "    rewards.append(episode_reward)\n",
    "    avg_rewards.append(np.mean(rewards[-10:]))\n",
    "\n",
    "plt.plot(rewards)\n",
    "plt.plot(avg_rewards)\n",
    "plt.plot()\n",
    "plt.xlabel('Episode')\n",
    "plt.ylabel('Reward')\n",
    "plt.show()        "
   ]
  },
  {
   "cell_type": "code",
   "execution_count": 7,
   "metadata": {},
   "outputs": [
    {
     "ename": "AttributeError",
     "evalue": "module 'tensorflow' has no attribute 'placeholder'",
     "output_type": "error",
     "traceback": [
      "\u001b[1;31m---------------------------------------------------------------------------\u001b[0m",
      "\u001b[1;31mAttributeError\u001b[0m                            Traceback (most recent call last)",
      "\u001b[1;32m<ipython-input-7-0405333f025b>\u001b[0m in \u001b[0;36m<module>\u001b[1;34m\u001b[0m\n\u001b[1;32m----> 1\u001b[1;33m \u001b[0mself\u001b[0m\u001b[1;33m.\u001b[0m\u001b[0mq_gradient_input\u001b[0m \u001b[1;33m=\u001b[0m \u001b[0mtf\u001b[0m\u001b[1;33m.\u001b[0m\u001b[0mplaceholder\u001b[0m\u001b[1;33m(\u001b[0m\u001b[1;34m\"float\"\u001b[0m\u001b[1;33m,\u001b[0m\u001b[1;33m[\u001b[0m\u001b[1;32mNone\u001b[0m\u001b[1;33m,\u001b[0m\u001b[0mself\u001b[0m\u001b[1;33m.\u001b[0m\u001b[0maction_dim\u001b[0m\u001b[1;33m]\u001b[0m\u001b[1;33m)\u001b[0m\u001b[1;33m\u001b[0m\u001b[1;33m\u001b[0m\u001b[0m\n\u001b[0m\u001b[0;32m      2\u001b[0m \u001b[0mself\u001b[0m\u001b[1;33m.\u001b[0m\u001b[0mparameters_gradients\u001b[0m \u001b[1;33m=\u001b[0m \u001b[0mtf\u001b[0m\u001b[1;33m.\u001b[0m\u001b[0mgradients\u001b[0m\u001b[1;33m(\u001b[0m\u001b[0mself\u001b[0m\u001b[1;33m.\u001b[0m\u001b[0maction_output\u001b[0m\u001b[1;33m,\u001b[0m\u001b[0mself\u001b[0m\u001b[1;33m.\u001b[0m\u001b[0mnet\u001b[0m\u001b[1;33m,\u001b[0m\u001b[1;33m-\u001b[0m\u001b[0mself\u001b[0m\u001b[1;33m.\u001b[0m\u001b[0mq_gradient_input\u001b[0m\u001b[1;33m)\u001b[0m\u001b[1;33m\u001b[0m\u001b[1;33m\u001b[0m\u001b[0m\n\u001b[0;32m      3\u001b[0m \u001b[0mself\u001b[0m\u001b[1;33m.\u001b[0m\u001b[0moptimizer\u001b[0m \u001b[1;33m=\u001b[0m \u001b[0mtf\u001b[0m\u001b[1;33m.\u001b[0m\u001b[0mtrain\u001b[0m\u001b[1;33m.\u001b[0m\u001b[0mAdamOptimizer\u001b[0m\u001b[1;33m(\u001b[0m\u001b[0mLEARNING_RATE\u001b[0m\u001b[1;33m)\u001b[0m\u001b[1;33m.\u001b[0m\u001b[0mapply_gradients\u001b[0m\u001b[1;33m(\u001b[0m\u001b[0mzip\u001b[0m\u001b[1;33m(\u001b[0m\u001b[0mself\u001b[0m\u001b[1;33m.\u001b[0m\u001b[0mparameters_gradients\u001b[0m\u001b[1;33m,\u001b[0m\u001b[0mself\u001b[0m\u001b[1;33m.\u001b[0m\u001b[0mnet\u001b[0m\u001b[1;33m)\u001b[0m\u001b[1;33m)\u001b[0m\u001b[1;33m\u001b[0m\u001b[1;33m\u001b[0m\u001b[0m\n",
      "\u001b[1;31mAttributeError\u001b[0m: module 'tensorflow' has no attribute 'placeholder'"
     ]
    }
   ],
   "source": [
    "\t\tself.q_gradient_input = tf.placeholder(\"float\",[None,self.action_dim])\n",
    "\t\tself.parameters_gradients = tf.gradients(self.action_output,self.net,-self.q_gradient_input)\n",
    "\t\tself.optimizer = tf.train.AdamOptimizer(LEARNING_RATE).apply_gradients(zip(self.parameters_gradients,self.net))"
   ]
  },
  {
   "cell_type": "code",
   "execution_count": 35,
   "metadata": {},
   "outputs": [],
   "source": [
    "import tensorflow as tf\n",
    "tau = 0.1\n",
    "target_param = agent.actor_target.get_weights()\n",
    "param = agent.actor.get_weights()\n",
    "for target_layer, layer in zip(target_param, param):\n",
    "    target_layer = tau * layer + (1.0 - tau) * target_layer\n",
    "agent.actor_target.set_weights(target_param)"
   ]
  },
  {
   "cell_type": "code",
   "execution_count": 54,
   "metadata": {},
   "outputs": [],
   "source": [
    "tau = 0.1\n",
    "target_param = agent.actor_target.get_weights()\n",
    "param = agent.actor.get_weights()\n",
    "for layer in range(0, len(target_param)):\n",
    "    target_param[layer] = tau * param[layer] + (1.0 - tau) * target_param[layer]\n",
    "agent.actor_target.set_weights(target_param)"
   ]
  },
  {
   "cell_type": "code",
   "execution_count": 5,
   "metadata": {},
   "outputs": [
    {
     "name": "stdout",
     "output_type": "stream",
     "text": [
      "Model: \"model_3\"\n",
      "__________________________________________________________________________________________________\n",
      "Layer (type)                    Output Shape         Param #     Connected to                     \n",
      "==================================================================================================\n",
      "input_5 (InputLayer)            [(None, 3)]          0                                            \n",
      "__________________________________________________________________________________________________\n",
      "dense_7 (Dense)                 (None, 128)          512         input_5[0][0]                    \n",
      "__________________________________________________________________________________________________\n",
      "input_6 (InputLayer)            [(None, 1)]          0                                            \n",
      "__________________________________________________________________________________________________\n",
      "concatenate_1 (Concatenate)     (None, 129)          0           dense_7[0][0]                    \n",
      "                                                                 input_6[0][0]                    \n",
      "__________________________________________________________________________________________________\n",
      "dense_8 (Dense)                 (None, 64)           8320        concatenate_1[0][0]              \n",
      "__________________________________________________________________________________________________\n",
      "dense_9 (Dense)                 (None, 1)            65          dense_8[0][0]                    \n",
      "==================================================================================================\n",
      "Total params: 8,897\n",
      "Trainable params: 8,897\n",
      "Non-trainable params: 0\n",
      "__________________________________________________________________________________________________\n"
     ]
    }
   ],
   "source": [
    "agent.critic_target.summary()"
   ]
  },
  {
   "cell_type": "code",
   "execution_count": null,
   "metadata": {},
   "outputs": [],
   "source": []
  }
 ],
 "metadata": {
  "kernelspec": {
   "display_name": "Python 3",
   "language": "python",
   "name": "python3"
  },
  "language_info": {
   "codemirror_mode": {
    "name": "ipython",
    "version": 3
   },
   "file_extension": ".py",
   "mimetype": "text/x-python",
   "name": "python",
   "nbconvert_exporter": "python",
   "pygments_lexer": "ipython3",
   "version": "3.7.4"
  }
 },
 "nbformat": 4,
 "nbformat_minor": 4
}
